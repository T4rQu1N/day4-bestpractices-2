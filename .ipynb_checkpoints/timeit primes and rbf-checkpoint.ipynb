{
 "cells": [
  {
   "cell_type": "code",
   "execution_count": 2,
   "metadata": {},
   "outputs": [],
   "source": [
    "import primes\n",
    "import cy_primes\n",
    "\n"
   ]
  },
  {
   "cell_type": "code",
   "execution_count": 3,
   "metadata": {},
   "outputs": [
    {
     "name": "stdout",
     "output_type": "stream",
     "text": [
      "287 ms ± 723 µs per loop (mean ± std. dev. of 7 runs, 1 loop each)\n"
     ]
    }
   ],
   "source": [
    "%timeit primes.primes(2000)"
   ]
  },
  {
   "cell_type": "code",
   "execution_count": 4,
   "metadata": {},
   "outputs": [
    {
     "name": "stdout",
     "output_type": "stream",
     "text": [
      "1.85 ms ± 370 ns per loop (mean ± std. dev. of 7 runs, 1000 loops each)\n"
     ]
    }
   ],
   "source": [
    "%timeit cy_primes.primes(2000)"
   ]
  },
  {
   "cell_type": "code",
   "execution_count": 3,
   "metadata": {},
   "outputs": [
    {
     "name": "stdout",
     "output_type": "stream",
     "text": [
      "Python:  6.394500255584717\n",
      "Scipy:  0.1200265884399414\n",
      "Cython:  4.766637086868286\n"
     ]
    }
   ],
   "source": [
    "from math import exp\n",
    "import numpy as np\n",
    "from scipy.interpolate import Rbf\n",
    "\n",
    "# Naive python implementation of a Radial Basis Function (RBF) approximation scheme\n",
    "def rbf_network(X, beta, theta):\n",
    "\n",
    "    N = X.shape[0]\n",
    "    D = X.shape[1]\n",
    "    Y = np.zeros(N)\n",
    "\n",
    "    for i in range(N):\n",
    "        for j in range(N):\n",
    "            r = 0\n",
    "            for d in range(D):\n",
    "                r += (X[j, d] - X[i, d]) ** 2\n",
    "            r = r**0.5\n",
    "            Y[i] += beta[j] * exp(-(r * theta)**2)\n",
    "\n",
    "    return Y\n",
    "\n",
    "# Scipy implementation of a Radial Basis Function (RBF) approximation scheme\n",
    "def rbf_scipy(X, beta):\n",
    "\n",
    "    N = X.shape[0]\n",
    "    D = X.shape[1]    \n",
    "    rbf = Rbf(X[:,0], X[:,1], X[:,2], X[:,3], X[:, 4], beta)\n",
    "    #Xtuple = tuple([X[:, i] for i in range(D)])\n",
    "    Xtuple = tuple([X[:, i] for i in range(D)])\n",
    "\n",
    "    return rbf(*Xtuple)\n",
    "\n",
    "\n",
    "# Cython  implementation of a Radial Basis Function (RBF) approximation scheme\n",
    "# \n",
    "# TODO: Write the Cython implementation in a separate fastloop.pyx file, compile and import it here\n",
    "\n",
    "from fastloop import rbf_network_cython\n",
    "\n",
    "\n",
    "# Make up some data\n",
    "D = 5\n",
    "N = 1000\n",
    "X = np.array([np.random.rand(N) for d in range(D)]).T\n",
    "beta = np.random.rand(N)\n",
    "theta = 10\n",
    "\n",
    "# Simple testing of the performance of the Python and Scipy implementations\n",
    "import time\n",
    "\n",
    "t0 = time.time()\n",
    "rbf_network(X, beta, theta)\n",
    "print(\"Python: \", time.time() - t0)\n",
    "\n",
    "t0 = time.time()\n",
    "rbf_scipy(X, beta)\n",
    "print(\"Scipy: \", time.time() - t0)\n",
    "\n",
    "# Testing the performance of Cython\n",
    "t0 = time.time()\n",
    "rbf_network_cython(X, beta, theta)\n",
    "print(\"Cython: \", time.time() - t0)"
   ]
  }
 ],
 "metadata": {
  "kernelspec": {
   "display_name": "Python 3",
   "language": "python",
   "name": "python3"
  },
  "language_info": {
   "codemirror_mode": {
    "name": "ipython",
    "version": 3
   },
   "file_extension": ".py",
   "mimetype": "text/x-python",
   "name": "python",
   "nbconvert_exporter": "python",
   "pygments_lexer": "ipython3",
   "version": "3.8.3"
  }
 },
 "nbformat": 4,
 "nbformat_minor": 4
}
